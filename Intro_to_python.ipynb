{
 "cells": [
  {
   "cell_type": "code",
   "execution_count": 7,
   "id": "ed50fdf4-5681-4379-8482-294f0a9b609c",
   "metadata": {},
   "outputs": [
    {
     "name": "stdin",
     "output_type": "stream",
     "text": [
      "Enter the value:  Abhishek\n"
     ]
    },
    {
     "name": "stdout",
     "output_type": "stream",
     "text": [
      "kehsihbA\n"
     ]
    }
   ],
   "source": [
    "v = input(\"Enter the value: \")\n",
    "rev = ''\n",
    "for char in v:\n",
    "    rev = char + rev \n",
    "print(rev)"
   ]
  },
  {
   "cell_type": "code",
   "execution_count": 10,
   "id": "252dd9af-757f-498e-9382-a7cba9f6447f",
   "metadata": {},
   "outputs": [
    {
     "name": "stdin",
     "output_type": "stream",
     "text": [
      "Enter A String:  Abhishek\n"
     ]
    },
    {
     "name": "stdout",
     "output_type": "stream",
     "text": [
      "kehsihbA\n"
     ]
    }
   ],
   "source": [
    "name = input(\"Enter a String: \")\n",
    "length = len(name) - 1\n",
    "rev = ''\n",
    "while length>= 0:\n",
    "    rev += name[length]\n",
    "    length -= 1\n",
    "print(rev)"
   ]
  },
  {
   "cell_type": "code",
   "execution_count": 16,
   "id": "bdbdfab8-42b9-4f25-b1a0-2bf91d6e9f9c",
   "metadata": {},
   "outputs": [
    {
     "name": "stdin",
     "output_type": "stream",
     "text": [
      "enter the number: 12\n",
      "enter 2nd number: 23\n"
     ]
    },
    {
     "data": {
      "text/plain": [
       "35"
      ]
     },
     "execution_count": 16,
     "metadata": {},
     "output_type": "execute_result"
    }
   ],
   "source": [
    "num1=int(input(\"enter the number:\"))\n",
    "num2=int(input(\"enter 2nd number:\"))\n",
    "def add(num1,num2):\n",
    "    sum=num1+num2\n",
    "    return sum\n",
    "\n",
    "add(num1, num2)"
   ]
  },
  {
   "cell_type": "code",
   "execution_count": 22,
   "id": "a1534490-22db-4468-b28c-82a15adbbbbc",
   "metadata": {},
   "outputs": [
    {
     "name": "stdin",
     "output_type": "stream",
     "text": [
      "Enter the vavlue: 4\n"
     ]
    },
    {
     "data": {
      "text/plain": [
       "2.0"
      ]
     },
     "execution_count": 22,
     "metadata": {},
     "output_type": "execute_result"
    }
   ],
   "source": [
    "import math\n",
    "num=int(input(\"Enter the vavlue:\"))\n",
    "def sqr_root(num):\n",
    "    root= math.sqrt(num)\n",
    "    return root\n",
    "\n",
    "sqr_root(num)\n",
    "    \n",
    "    "
   ]
  },
  {
   "cell_type": "code",
   "execution_count": 1,
   "id": "55a72cab-701f-492d-a817-3a7bce5d2b46",
   "metadata": {},
   "outputs": [
    {
     "name": "stdin",
     "output_type": "stream",
     "text": [
      "enter string Abhi\n"
     ]
    },
    {
     "data": {
      "text/plain": [
       "'ihbA'"
      ]
     },
     "execution_count": 1,
     "metadata": {},
     "output_type": "execute_result"
    }
   ],
   "source": [
    "str=input(\"enter string\")\n",
    "def reverse_str(str):\n",
    "    rev=\"\"\n",
    "    for char in str:\n",
    "        rev=char+rev\n",
    "    return rev\n",
    "\n",
    "reverse_str(str)"
   ]
  },
  {
   "cell_type": "code",
   "execution_count": 6,
   "id": "c47766c0-b137-4ebb-b348-eeafcd43db84",
   "metadata": {},
   "outputs": [
    {
     "data": {
      "text/plain": [
       "[0, 1, 4, 9, 16]"
      ]
     },
     "execution_count": 6,
     "metadata": {},
     "output_type": "execute_result"
    }
   ],
   "source": [
    "arr=[0,1,2,3,4]\n",
    "x=[]\n",
    "def sqr(arr):\n",
    "    for i in arr:\n",
    "        x.append(i * i)\n",
    "    return x\n",
    "\n",
    "sqr(arr)"
   ]
  },
  {
   "cell_type": "code",
   "execution_count": 29,
   "id": "b22515b7-ce8c-47b5-a879-8bebee52a901",
   "metadata": {},
   "outputs": [
    {
     "data": {
      "text/plain": [
       "10"
      ]
     },
     "execution_count": 29,
     "metadata": {},
     "output_type": "execute_result"
    }
   ],
   "source": [
    "array=[0,1,2,3,4]\n",
    "def sum(array):\n",
    "    y = 0\n",
    "    for i in array:\n",
    "        y=y+arr[i]\n",
    "        \n",
    "    return y\n",
    "\n",
    "sum(array)"
   ]
  },
  {
   "cell_type": "markdown",
   "id": "cd08afd7-ae93-4cdb-a7ec-e0ae305d19fd",
   "metadata": {},
   "source": [
    "#### two pointer approach to reverse a array: "
   ]
  },
  {
   "cell_type": "code",
   "execution_count": 30,
   "id": "6a3b8c25-142e-4b8b-8ff6-2778681335aa",
   "metadata": {},
   "outputs": [
    {
     "data": {
      "text/plain": [
       "[4, 3, 2, 1, 0]"
      ]
     },
     "execution_count": 30,
     "metadata": {},
     "output_type": "execute_result"
    }
   ],
   "source": [
    "\n",
    "array=[0,1,2,3,4]\n",
    "def rev_arr(array):\n",
    "    left = array[0]\n",
    "    right = len(array) - 1\n",
    "    while left < right:\n",
    "        array[left], array[right] = array[right], array[left]\n",
    "        left += 1\n",
    "        right -= 1\n",
    "    return array \n",
    "\n",
    "rev_arr(array)"
   ]
  },
  {
   "cell_type": "markdown",
   "id": "9c00abae-9b72-480b-b0bd-a61b970c7a55",
   "metadata": {},
   "source": [
    "#### one pointer approach to reverse a array:"
   ]
  },
  {
   "cell_type": "code",
   "execution_count": 33,
   "id": "5d1f1d67-27b9-4a99-92b5-eb1cc20f90aa",
   "metadata": {},
   "outputs": [
    {
     "data": {
      "text/plain": [
       "[4, 3, 2, 1, 0]"
      ]
     },
     "execution_count": 33,
     "metadata": {},
     "output_type": "execute_result"
    }
   ],
   "source": [
    "arr = [0,1,2,3,4]\n",
    "def reverse(arr):\n",
    "    n=len(arr)\n",
    "    for i in range(len(arr)):\n",
    "        if i >= n // 2:\n",
    "            return arr\n",
    "        arr[i], arr[n - i - 1] = arr[n - i - 1], arr[i]\n",
    "        i += 1\n",
    "    return arr\n",
    "\n",
    "reverse(arr)"
   ]
  },
  {
   "cell_type": "markdown",
   "id": "5fad3432-4dcf-4332-ae22-ea1b5017f5df",
   "metadata": {},
   "source": [
    "#### Pattern Programming"
   ]
  },
  {
   "cell_type": "code",
   "execution_count": 4,
   "id": "e4dd92ad-59ed-4d00-afd0-b8771465083f",
   "metadata": {},
   "outputs": [
    {
     "name": "stdin",
     "output_type": "stream",
     "text": [
      "enter a number: 5\n"
     ]
    },
    {
     "name": "stdout",
     "output_type": "stream",
     "text": [
      "* * * * * \n",
      "* * * * * \n",
      "* * * * * \n",
      "* * * * * \n",
      "* * * * * \n"
     ]
    }
   ],
   "source": [
    "n=int(input(\"enter a number:\"))\n",
    "def pattern(n):\n",
    "    for i in range(n):\n",
    "        for j in range(n):\n",
    "            print(\"* \", end='')\n",
    "        print()\n",
    "\n",
    "pattern(n)"
   ]
  },
  {
   "cell_type": "code",
   "execution_count": 6,
   "id": "2cd98d3f-fa35-46ee-b8a4-edce33e4fdc5",
   "metadata": {},
   "outputs": [
    {
     "name": "stdin",
     "output_type": "stream",
     "text": [
      "enter a number: 5\n"
     ]
    },
    {
     "name": "stdout",
     "output_type": "stream",
     "text": [
      "\n",
      "*\n",
      "**\n",
      "***\n",
      "****\n",
      "*****\n"
     ]
    }
   ],
   "source": [
    "n=int(input(\"enter a number:\"))\n",
    "def pattern(n):\n",
    "    for i in range(n+1):\n",
    "        for j in range(i):\n",
    "            print('*',end='')\n",
    "        print()\n",
    "\n",
    "pattern(n)"
   ]
  },
  {
   "cell_type": "code",
   "execution_count": 12,
   "id": "41c2537f-2043-426d-b644-c0e8403ffb05",
   "metadata": {},
   "outputs": [
    {
     "name": "stdin",
     "output_type": "stream",
     "text": [
      "enter a number: 5\n"
     ]
    },
    {
     "name": "stdout",
     "output_type": "stream",
     "text": [
      "\n",
      "1\n",
      "12\n",
      "123\n",
      "1234\n",
      "12345\n"
     ]
    }
   ],
   "source": [
    "n=int(input('enter a number:'))\n",
    "def pattern(n):\n",
    "    for i in range(n+1):\n",
    "        for j in range(1,i+1):\n",
    "            print(j,end=\"\")\n",
    "        print()\n",
    "\n",
    "pattern(n)"
   ]
  },
  {
   "cell_type": "code",
   "execution_count": 18,
   "id": "d93298ee-e84a-4e70-b560-78c0af698331",
   "metadata": {},
   "outputs": [
    {
     "name": "stdin",
     "output_type": "stream",
     "text": [
      "enter a number: 5\n"
     ]
    },
    {
     "name": "stdout",
     "output_type": "stream",
     "text": [
      "\n",
      "1\n",
      "22\n",
      "333\n",
      "4444\n",
      "55555\n"
     ]
    }
   ],
   "source": [
    "n=int(input(\"enter a number:\"))\n",
    "def pattern(n):\n",
    "    for i in range(n+1):\n",
    "        for j in range(1,i+1):\n",
    "            print(i,end=\"\")\n",
    "        print()\n",
    "\n",
    "pattern(n)"
   ]
  },
  {
   "cell_type": "code",
   "execution_count": 30,
   "id": "5b94e389-e5a7-476b-8d62-18ea48ba5850",
   "metadata": {},
   "outputs": [
    {
     "name": "stdin",
     "output_type": "stream",
     "text": [
      "enter a number: 5\n"
     ]
    },
    {
     "name": "stdout",
     "output_type": "stream",
     "text": [
      "*****\n",
      "****\n",
      "***\n",
      "**\n",
      "*\n",
      "\n"
     ]
    }
   ],
   "source": [
    "n=int(input(\"enter a number:\"))\n",
    "def pattern(n):\n",
    "    for i in range(n+1,0,-1):\n",
    "        for j in range(1,i):\n",
    "            print('*',end=\"\")\n",
    "        print()\n",
    "\n",
    "pattern(n)"
   ]
  },
  {
   "cell_type": "code",
   "execution_count": 61,
   "id": "d4328a10-383f-490d-95f5-14234f26d9a6",
   "metadata": {},
   "outputs": [
    {
     "name": "stdin",
     "output_type": "stream",
     "text": [
      "enter a number: 5\n"
     ]
    },
    {
     "name": "stdout",
     "output_type": "stream",
     "text": [
      "12345\n",
      "1234\n",
      "123\n",
      "12\n",
      "1\n",
      "\n"
     ]
    }
   ],
   "source": [
    "n=int(input('enter a number:'))\n",
    "def pattern(n):\n",
    "    for i in range(n+1,0,-1):\n",
    "        for j in range(1,i):\n",
    "            print(j,end='')\n",
    "        print()\n",
    "\n",
    "pattern(n)"
   ]
  },
  {
   "cell_type": "code",
   "execution_count": 42,
   "id": "1b087a35-e144-4992-b431-f567dabcaca3",
   "metadata": {},
   "outputs": [
    {
     "name": "stdin",
     "output_type": "stream",
     "text": [
      "enter a number: 5\n"
     ]
    },
    {
     "name": "stdout",
     "output_type": "stream",
     "text": [
      "    *\n",
      "   ***\n",
      "  *****\n",
      " *******\n",
      "*********\n"
     ]
    }
   ],
   "source": [
    "n=int(input(\"enter a number:\"))\n",
    "def pattern(n):\n",
    "    for i in range(n):\n",
    "        for j in range(n-i-1):\n",
    "            print(\" \",end=\"\")\n",
    "        for k in range(2*i+1):\n",
    "            print('*',end=\"\")\n",
    "        print()\n",
    "\n",
    "pattern(n)\n",
    "        "
   ]
  },
  {
   "cell_type": "code",
   "execution_count": 56,
   "id": "14dd0517-8963-4fa6-868b-6c5a998b29fb",
   "metadata": {},
   "outputs": [
    {
     "name": "stdin",
     "output_type": "stream",
     "text": [
      "enter a number: 5\n"
     ]
    },
    {
     "name": "stdout",
     "output_type": "stream",
     "text": [
      "*********\n",
      " *******\n",
      "  *****\n",
      "   ***\n",
      "    *\n"
     ]
    }
   ],
   "source": [
    "n=int(input(\"enter a number:\"))\n",
    "def pattern(n):\n",
    "    for i in range(n, 0, -1):\n",
    "        for j in range(0, n - i):\n",
    "            print(\" \",end=\"\")\n",
    "        for k in range(0, 2 * i - 1):\n",
    "            print('*',end=\"\")\n",
    "        print()\n",
    "\n",
    "pattern(n)"
   ]
  },
  {
   "cell_type": "code",
   "execution_count": 7,
   "id": "15d10d5a-ab22-4fa1-b974-4863d81cb2b1",
   "metadata": {},
   "outputs": [
    {
     "name": "stdin",
     "output_type": "stream",
     "text": [
      "enter a number: 5\n"
     ]
    },
    {
     "name": "stdout",
     "output_type": "stream",
     "text": [
      "\n",
      "*\n",
      "**\n",
      "***\n",
      "****\n",
      "*****\n",
      "******\n",
      "*****\n",
      "****\n",
      "***\n",
      "**\n",
      "*\n"
     ]
    }
   ],
   "source": [
    "n=int(input(\"enter a number:\"))\n",
    "def pattern(n):\n",
    "    for i in range(n+1):\n",
    "        for j in range(i):\n",
    "            print(\"*\",end=\"\")\n",
    "        print()\n",
    "    for i in range(n+1,0,-1):\n",
    "        for j in range(i):\n",
    "            print(\"*\",end=\"\")\n",
    "        print()\n",
    "\n",
    "pattern(n)\n",
    "    "
   ]
  },
  {
   "cell_type": "code",
   "execution_count": 72,
   "id": "c3745300-162e-4424-ac3f-7d7e9f28d4a7",
   "metadata": {},
   "outputs": [
    {
     "name": "stdout",
     "output_type": "stream",
     "text": [
      "0\n",
      "2\n",
      "4\n",
      "6\n",
      "8\n",
      "10\n"
     ]
    }
   ],
   "source": [
    "n=10\n",
    "for i in range(0,n+1,2):\n",
    "    print(i)"
   ]
  },
  {
   "cell_type": "code",
   "execution_count": 82,
   "id": "a4d030d6-1f8f-483a-a2a6-3a54e8225fee",
   "metadata": {
    "jp-MarkdownHeadingCollapsed": true
   },
   "outputs": [
    {
     "name": "stdin",
     "output_type": "stream",
     "text": [
      "enter a number: 5\n"
     ]
    },
    {
     "name": "stdout",
     "output_type": "stream",
     "text": [
      "    *\n",
      "   ***\n",
      "  *****\n",
      " *******\n",
      "*********\n",
      " *******\n",
      "  *****\n",
      "   ***\n",
      "    *\n"
     ]
    }
   ],
   "source": [
    "n=int(input(\"enter a number:\"))\n",
    "def pattern(n):\n",
    "    for i in range(n):\n",
    "        for j in range(n-i-1):\n",
    "            print(\" \",end=\"\")\n",
    "        for k in range(2*i+1):\n",
    "            print('*',end=\"\")\n",
    "        print()\n",
    "    for i in range(n-1,0,-1):\n",
    "        for j in range(n-i):\n",
    "            print(\" \",end=\"\")\n",
    "        for k in range(2*i-1):\n",
    "            print('*',end=\"\")\n",
    "        print()\n",
    "\n",
    "pattern(n)"
   ]
  },
  {
   "cell_type": "code",
   "execution_count": 12,
   "id": "f1266510-9a20-45ca-bc3c-350d6882646a",
   "metadata": {},
   "outputs": [
    {
     "name": "stdin",
     "output_type": "stream",
     "text": [
      "enter a number: 5\n"
     ]
    },
    {
     "name": "stdout",
     "output_type": "stream",
     "text": [
      "0\n",
      "01\n",
      "010\n",
      "0101\n",
      "01010\n",
      "010101\n"
     ]
    }
   ],
   "source": [
    "n=int(input(\"enter a number:\"))\n",
    "def pattern(n):\n",
    "    start=1\n",
    "    for i in range(n+1):\n",
    "        if i%2==2:\n",
    "            start=1\n",
    "        else:\n",
    "            start=0\n",
    "        for j in range(i+1):\n",
    "            print(start,end=\"\")\n",
    "            start= 1-start\n",
    "        print()\n",
    "\n",
    "pattern(n)"
   ]
  },
  {
   "cell_type": "code",
   "execution_count": 19,
   "id": "2167b5c2-94c6-4890-9f0c-3a141de6321b",
   "metadata": {},
   "outputs": [
    {
     "name": "stdin",
     "output_type": "stream",
     "text": [
      "enter a number: 5\n"
     ]
    },
    {
     "name": "stdout",
     "output_type": "stream",
     "text": [
      "0\n",
      "20\n",
      "020\n",
      "2020\n",
      "02020\n",
      "202020\n"
     ]
    }
   ],
   "source": [
    "n=int(input(\"enter a number:\"))\n",
    "def pattern(n):\n",
    "    start=1\n",
    "    for i in range(n+1):\n",
    "        if i%2==0:\n",
    "            start=0\n",
    "        else:\n",
    "            start=2\n",
    "        for j in range(i+1):\n",
    "            print(start,end=\"\")\n",
    "            start=2-start\n",
    "        print()\n",
    "\n",
    "pattern(n)"
   ]
  },
  {
   "cell_type": "code",
   "execution_count": 15,
   "id": "7adf69bd-d211-4a18-b533-ff7b03570577",
   "metadata": {},
   "outputs": [
    {
     "name": "stdin",
     "output_type": "stream",
     "text": [
      "enter a number: 5\n"
     ]
    },
    {
     "name": "stdout",
     "output_type": "stream",
     "text": [
      "1        1\n",
      "12      21\n",
      "123    321\n",
      "1234  4321\n",
      "1234554321\n"
     ]
    }
   ],
   "source": [
    "n=int(input(\"enter a number:\"))\n",
    "def pattern(n):\n",
    "    for i in range(1,n+1):\n",
    "        for j in range(1,i+1):\n",
    "            print(j,end=\"\")\n",
    "        for k in range(2*(n-i)):\n",
    "            print(\" \",end=\"\")\n",
    "        for l in range(i,0,-1):\n",
    "            print(l,end=\"\")\n",
    "        print()\n",
    "            \n",
    "\n",
    "pattern(n)"
   ]
  },
  {
   "cell_type": "code",
   "execution_count": 50,
   "id": "93308066-22d3-49e4-bc97-e5a1bc41e414",
   "metadata": {},
   "outputs": [
    {
     "name": "stdin",
     "output_type": "stream",
     "text": [
      "enter a number: 5\n"
     ]
    },
    {
     "name": "stdout",
     "output_type": "stream",
     "text": [
      "1 \n",
      "2 3 \n",
      "4 5 6 \n",
      "7 8 9 10 \n",
      "11 12 13 14 15 \n"
     ]
    }
   ],
   "source": [
    "n=int(input(\"enter a number:\"))\n",
    "def pattern(n):\n",
    "    num=1\n",
    "    for i in range(1,n+1):\n",
    "        for j in range(1,i+1):\n",
    "            print(num,end=\" \")\n",
    "            num=num+1\n",
    "        print()\n",
    "\n",
    "pattern(n)"
   ]
  },
  {
   "cell_type": "code",
   "execution_count": 56,
   "id": "6ec85f19-0c1a-4f22-8448-d8d2d511edf9",
   "metadata": {},
   "outputs": [
    {
     "name": "stdin",
     "output_type": "stream",
     "text": [
      "enter a number: 5\n"
     ]
    },
    {
     "name": "stdout",
     "output_type": "stream",
     "text": [
      "A\n",
      "AB\n",
      "ABC\n",
      "ABCD\n",
      "ABCDE\n",
      "ABCDEF\n"
     ]
    }
   ],
   "source": [
    "n=int(input(\"enter a number:\"))\n",
    "def pattern(n):\n",
    "    for i in range(n+1):\n",
    "        for j in range(i+1):\n",
    "            print(chr(65+j),end=\"\")\n",
    "            \n",
    "        print()\n",
    "\n",
    "pattern(n)"
   ]
  },
  {
   "cell_type": "code",
   "execution_count": 63,
   "id": "ddeb7f31-8b59-42bb-8842-3b69ff828a31",
   "metadata": {},
   "outputs": [
    {
     "name": "stdin",
     "output_type": "stream",
     "text": [
      "enter a number: 5\n"
     ]
    },
    {
     "name": "stdout",
     "output_type": "stream",
     "text": [
      "ABCDE\n",
      "ABCD\n",
      "ABC\n",
      "AB\n",
      "A\n"
     ]
    }
   ],
   "source": [
    "n=int(input(\"enter a number:\"))\n",
    "def pattern(n):\n",
    "    for i in range(n,0,-1):\n",
    "        for j in range(i):\n",
    "            print(chr(65+j),end=\"\")\n",
    "        print()\n",
    "\n",
    "pattern(n)"
   ]
  },
  {
   "cell_type": "code",
   "execution_count": 74,
   "id": "448c48cb-f5c3-4278-a171-64499e2bdd3d",
   "metadata": {},
   "outputs": [
    {
     "name": "stdin",
     "output_type": "stream",
     "text": [
      "enter a number: 5\n"
     ]
    },
    {
     "name": "stdout",
     "output_type": "stream",
     "text": [
      "A\n",
      "BB\n",
      "CCC\n",
      "DDDD\n",
      "EEEEE\n"
     ]
    }
   ],
   "source": [
    "n=int(input(\"enter a number:\"))\n",
    "def pattern(n):\n",
    "    for i in range(1,n+1):\n",
    "        for j in range(i):\n",
    "            print(chr(64+i),end=\"\")\n",
    "        print()\n",
    "\n",
    "pattern(n)"
   ]
  },
  {
   "cell_type": "code",
   "execution_count": 88,
   "id": "0561ffa2-7d22-4e57-8503-eba24909125c",
   "metadata": {},
   "outputs": [
    {
     "name": "stdin",
     "output_type": "stream",
     "text": [
      "enter a number: 5\n"
     ]
    },
    {
     "name": "stdout",
     "output_type": "stream",
     "text": [
      "    A\n",
      "   ABA\n",
      "  ABCBA\n",
      " ABCDCBA\n",
      "ABCDEDCBA\n"
     ]
    }
   ],
   "source": [
    "n=int(input(\"enter a number:\"))\n",
    "def pattern(n):\n",
    "    for i in range(n):\n",
    "        char=ord(\"A\")\n",
    "        breakpt= (2 * i + 1) // 2\n",
    "        for j in range(n-i-1):\n",
    "            print(\" \",end=\"\")\n",
    "        for k in range(2*i+1):\n",
    "            print(chr(char),end=\"\")\n",
    "            if k<breakpt:\n",
    "                char=char+1\n",
    "            else:\n",
    "                char=char-1\n",
    "        print()\n",
    "\n",
    "pattern(n)"
   ]
  },
  {
   "cell_type": "code",
   "execution_count": 105,
   "id": "50130fba-df29-4fa1-88fe-69e946c17d8c",
   "metadata": {},
   "outputs": [
    {
     "name": "stdin",
     "output_type": "stream",
     "text": [
      "enter a number: 5\n"
     ]
    },
    {
     "name": "stdout",
     "output_type": "stream",
     "text": [
      "F\n",
      "FE\n",
      "FED\n",
      "FEDC\n",
      "FEDCB\n",
      "FEDCBA\n"
     ]
    }
   ],
   "source": [
    "n=int(input(\"enter a number:\"))\n",
    "def pattern(n):\n",
    "    for i in range(n+1):\n",
    "        for j in range(i+1):\n",
    "            print(chr(65+n-j),end=\"\")\n",
    "        print()\n",
    "\n",
    "pattern(n)"
   ]
  },
  {
   "cell_type": "code",
   "execution_count": 46,
   "id": "d2cf4216-0138-4698-a426-f80bd3b50638",
   "metadata": {},
   "outputs": [
    {
     "name": "stdin",
     "output_type": "stream",
     "text": [
      "enter a number: 5\n"
     ]
    },
    {
     "name": "stdout",
     "output_type": "stream",
     "text": [
      "**********\n",
      "****  ****\n",
      "***    ***\n",
      "**      **\n",
      "*        *\n",
      "*        *\n",
      "**      **\n",
      "***    ***\n",
      "****  ****\n",
      "**********\n"
     ]
    }
   ],
   "source": [
    "n=int(input(\"enter a number:\"))\n",
    "def pattern(n):\n",
    "    for i in range(n,0,-1):\n",
    "        for j in range(i,0,-1):\n",
    "            print(\"*\",end=\"\")\n",
    "        for k in range(2*(n-i)):\n",
    "            print(\" \",end=\"\")\n",
    "        for l in range(i,0,-1):\n",
    "            print(\"*\",end=\"\")\n",
    "        print()\n",
    "    for i in range(n):\n",
    "        for j in range(i+1):\n",
    "            print(\"*\",end=\"\")\n",
    "        for k in range(2*(n-i-1)):\n",
    "            print(\" \",end=\"\")\n",
    "        for l in range(i+1):\n",
    "            print(\"*\",end=\"\")\n",
    "        print()\n",
    "\n",
    "\n",
    "pattern(n)"
   ]
  },
  {
   "cell_type": "code",
   "execution_count": null,
   "id": "e53e478d-2eee-45fc-bcea-92b4f46d1f19",
   "metadata": {},
   "outputs": [],
   "source": []
  }
 ],
 "metadata": {
  "kernelspec": {
   "display_name": "Python 3 (ipykernel)",
   "language": "python",
   "name": "python3"
  },
  "language_info": {
   "codemirror_mode": {
    "name": "ipython",
    "version": 3
   },
   "file_extension": ".py",
   "mimetype": "text/x-python",
   "name": "python",
   "nbconvert_exporter": "python",
   "pygments_lexer": "ipython3",
   "version": "3.11.7"
  }
 },
 "nbformat": 4,
 "nbformat_minor": 5
}
